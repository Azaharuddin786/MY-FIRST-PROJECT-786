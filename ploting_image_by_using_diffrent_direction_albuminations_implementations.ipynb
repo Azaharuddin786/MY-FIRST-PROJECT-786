{
  "nbformat": 4,
  "nbformat_minor": 0,
  "metadata": {
    "colab": {
      "name": "ploting image by using diffrent direction albuminations implementations",
      "provenance": [],
      "collapsed_sections": [],
      "authorship_tag": "ABX9TyOSd9fk+/tHlzEF0eRkDrTN",
      "include_colab_link": true
    },
    "kernelspec": {
      "name": "python3",
      "display_name": "Python 3"
    },
    "language_info": {
      "name": "python"
    }
  },
  "cells": [
    {
      "cell_type": "markdown",
      "metadata": {
        "id": "view-in-github",
        "colab_type": "text"
      },
      "source": [
        "<a href=\"https://colab.research.google.com/github/Azaharuddin786/MY-FIRST-PROJECT-786/blob/main/ploting_image_by_using_diffrent_direction_albuminations_implementations.ipynb\" target=\"_parent\"><img src=\"https://colab.research.google.com/assets/colab-badge.svg\" alt=\"Open In Colab\"/></a>"
      ]
    },
    {
      "cell_type": "code",
      "execution_count": 107,
      "metadata": {
        "id": "JZ9GyTUig82I"
      },
      "outputs": [],
      "source": [
        "import cv2\n",
        "import albumentations as A\n",
        "import numpy as np\n",
        "from PIL import Image\n",
        "import matplotlib.pyplot as plot_image\n",
        "from google.colab.patches import cv2_imshow\n",
        "import os\n",
        "import plot_utils as plot_examples\n",
        "\n",
        "\n"
      ]
    },
    {
      "cell_type": "code",
      "source": [
        "image = Image.open(\"/6dfc0d4283e3c21fe6f3416e2172178d.jpg\")"
      ],
      "metadata": {
        "id": "QS3DDV2lijDc"
      },
      "execution_count": 14,
      "outputs": []
    },
    {
      "cell_type": "code",
      "source": [
        "image = cv2.imread('/6dfc0d4283e3c21fe6f3416e2172178d.jpg')\n",
        "image = cv2.cvtColor(image, cv2.COLOR_BGR2RGB)"
      ],
      "metadata": {
        "id": "wsATByXxO9XH"
      },
      "execution_count": 90,
      "outputs": []
    },
    {
      "cell_type": "code",
      "source": [
        "\n",
        "\n",
        "from albumentations.core.composition import OneOf\n",
        "from albumentations.augmentations.transforms import VerticalFlip\n",
        "\n",
        "\n",
        "transform = A.Compose(\n",
        "    [\n",
        "     A.Resize(width=1920, height=1080),\n",
        "     A.RandomCrop(width=1280, height=720),\n",
        "     A.Rotate(limit=40, p=0.9, border_mode=cv2.BORDER_CONSTANT),\n",
        "     A.HorizontalFlip(p=0.5),\n",
        "     A.VerticalFlip(p=0.1),\n",
        "     A.RGBShift(r_shift_limit=25,g_shift_limit=25,b_shift_limit=25,p=0.9),\n",
        "     A.OneOf([\n",
        "           A.Blur(blur_limit=3, p=0.5),\n",
        "                 ], p=1.0),\n",
        "    ]\n",
        ")\n"
      ],
      "metadata": {
        "id": "YDaW65a-jVqZ"
      },
      "execution_count": 23,
      "outputs": []
    },
    {
      "cell_type": "code",
      "source": [
        "images_list = [image]"
      ],
      "metadata": {
        "id": "X4-dvCGnRp0T"
      },
      "execution_count": 101,
      "outputs": []
    },
    {
      "cell_type": "code",
      "source": [
        "images_list = [image]\n",
        "image = np.array(image)\n",
        "for i in range(15):\n",
        "    augmentations = transform(image=image)\n",
        "    augmented_img = augmentations[\"image\"]\n",
        "    images_list.append(augmented_img)\n",
        "    print('image_list')\n",
        "    \n",
        "    \n",
        "    \n",
        "    \n"
      ],
      "metadata": {
        "colab": {
          "base_uri": "https://localhost:8080/"
        },
        "id": "vX7c-uaPrvqT",
        "outputId": "8cb0d285-04f1-454b-91b4-8844b7a73a60"
      },
      "execution_count": 115,
      "outputs": [
        {
          "output_type": "stream",
          "name": "stdout",
          "text": [
            "image_list\n",
            "image_list\n",
            "image_list\n",
            "image_list\n",
            "image_list\n",
            "image_list\n",
            "image_list\n",
            "image_list\n",
            "image_list\n",
            "image_list\n",
            "image_list\n",
            "image_list\n",
            "image_list\n",
            "image_list\n",
            "image_list\n"
          ]
        }
      ]
    },
    {
      "cell_type": "code",
      "source": [
        "print('images_list')"
      ],
      "metadata": {
        "colab": {
          "base_uri": "https://localhost:8080/"
        },
        "id": "Fb9-dhHi4VMD",
        "outputId": "968e99f2-e0d2-4878-f9fa-bf1bf6849edd"
      },
      "execution_count": 114,
      "outputs": [
        {
          "output_type": "stream",
          "name": "stdout",
          "text": [
            "images_list\n"
          ]
        }
      ]
    },
    {
      "cell_type": "code",
      "source": [
        ""
      ],
      "metadata": {
        "id": "RTVAKgQPjWQJ"
      },
      "execution_count": null,
      "outputs": []
    },
    {
      "cell_type": "code",
      "source": [
        ""
      ],
      "metadata": {
        "id": "we8gzZM3jWff"
      },
      "execution_count": null,
      "outputs": []
    },
    {
      "cell_type": "code",
      "source": [
        ""
      ],
      "metadata": {
        "id": "hJKzQmbyjWre"
      },
      "execution_count": null,
      "outputs": []
    },
    {
      "cell_type": "code",
      "source": [
        ""
      ],
      "metadata": {
        "id": "Q_06pqMEjW3S"
      },
      "execution_count": null,
      "outputs": []
    },
    {
      "cell_type": "code",
      "source": [
        ""
      ],
      "metadata": {
        "id": "5Do3e5rTjXCs"
      },
      "execution_count": null,
      "outputs": []
    },
    {
      "cell_type": "code",
      "source": [
        ""
      ],
      "metadata": {
        "id": "bHhHKrP7jXNF"
      },
      "execution_count": null,
      "outputs": []
    },
    {
      "cell_type": "code",
      "source": [
        ""
      ],
      "metadata": {
        "id": "8XsnHVqujXYw"
      },
      "execution_count": null,
      "outputs": []
    },
    {
      "cell_type": "code",
      "source": [
        ""
      ],
      "metadata": {
        "id": "tOpUNB7FjXno"
      },
      "execution_count": null,
      "outputs": []
    },
    {
      "cell_type": "code",
      "source": [
        ""
      ],
      "metadata": {
        "id": "zVb1l7VJhYmw"
      },
      "execution_count": null,
      "outputs": []
    }
  ]
}