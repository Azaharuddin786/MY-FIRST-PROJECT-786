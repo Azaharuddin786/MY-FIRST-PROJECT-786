{
  "nbformat": 4,
  "nbformat_minor": 0,
  "metadata": {
    "colab": {
      "name": "CIFAR 10 data sets solved",
      "provenance": [],
      "collapsed_sections": [],
      "authorship_tag": "ABX9TyMTyT7koMwSe4hO2DqKf66p",
      "include_colab_link": true
    },
    "kernelspec": {
      "name": "python3",
      "display_name": "Python 3"
    },
    "language_info": {
      "name": "python"
    },
    "accelerator": "GPU"
  },
  "cells": [
    {
      "cell_type": "markdown",
      "metadata": {
        "id": "view-in-github",
        "colab_type": "text"
      },
      "source": [
        "<a href=\"https://colab.research.google.com/github/Azaharuddin786/MY-FIRST-PROJECT-786/blob/main/CIFAR_10_data_sets_solved.ipynb\" target=\"_parent\"><img src=\"https://colab.research.google.com/assets/colab-badge.svg\" alt=\"Open In Colab\"/></a>"
      ]
    },
    {
      "cell_type": "code",
      "execution_count": 1,
      "metadata": {
        "id": "_Nj8Ovx2IgQR"
      },
      "outputs": [],
      "source": [
        "import numpy\n",
        "from keras.models import Sequential\n",
        "from keras.layers import Dense,Dropout,Flatten,BatchNormalization,Activation\n",
        "from keras.layers.convolutional import Conv2D,MaxPooling2D\n",
        "from keras.constraints import maxnorm\n",
        "from keras.utils import np_utils"
      ]
    },
    {
      "cell_type": "code",
      "source": [
        "seed=21"
      ],
      "metadata": {
        "id": "ErlHqgFtrAzQ"
      },
      "execution_count": 2,
      "outputs": []
    },
    {
      "cell_type": "code",
      "source": [
        "from keras.datasets import cifar10"
      ],
      "metadata": {
        "id": "XjrdPQX6LXe1"
      },
      "execution_count": 3,
      "outputs": []
    },
    {
      "cell_type": "code",
      "source": [
        "(x_train,y_train),(x_test,y_test) = cifar10.load_data()"
      ],
      "metadata": {
        "id": "VLwJnX-WLyPa",
        "colab": {
          "base_uri": "https://localhost:8080/"
        },
        "outputId": "3f21ee7b-d282-4f90-f856-70508378feb5"
      },
      "execution_count": 4,
      "outputs": [
        {
          "output_type": "stream",
          "name": "stdout",
          "text": [
            "Downloading data from https://www.cs.toronto.edu/~kriz/cifar-10-python.tar.gz\n",
            "170500096/170498071 [==============================] - 11s 0us/step\n",
            "170508288/170498071 [==============================] - 11s 0us/step\n"
          ]
        }
      ]
    },
    {
      "cell_type": "code",
      "source": [
        "print(x_train[0])"
      ],
      "metadata": {
        "colab": {
          "base_uri": "https://localhost:8080/"
        },
        "id": "WOPnZMcTMwgE",
        "outputId": "04b4fe55-4ea0-47b1-d40b-399c3cfa8f0a"
      },
      "execution_count": 5,
      "outputs": [
        {
          "output_type": "stream",
          "name": "stdout",
          "text": [
            "[[[ 59  62  63]\n",
            "  [ 43  46  45]\n",
            "  [ 50  48  43]\n",
            "  ...\n",
            "  [158 132 108]\n",
            "  [152 125 102]\n",
            "  [148 124 103]]\n",
            "\n",
            " [[ 16  20  20]\n",
            "  [  0   0   0]\n",
            "  [ 18   8   0]\n",
            "  ...\n",
            "  [123  88  55]\n",
            "  [119  83  50]\n",
            "  [122  87  57]]\n",
            "\n",
            " [[ 25  24  21]\n",
            "  [ 16   7   0]\n",
            "  [ 49  27   8]\n",
            "  ...\n",
            "  [118  84  50]\n",
            "  [120  84  50]\n",
            "  [109  73  42]]\n",
            "\n",
            " ...\n",
            "\n",
            " [[208 170  96]\n",
            "  [201 153  34]\n",
            "  [198 161  26]\n",
            "  ...\n",
            "  [160 133  70]\n",
            "  [ 56  31   7]\n",
            "  [ 53  34  20]]\n",
            "\n",
            " [[180 139  96]\n",
            "  [173 123  42]\n",
            "  [186 144  30]\n",
            "  ...\n",
            "  [184 148  94]\n",
            "  [ 97  62  34]\n",
            "  [ 83  53  34]]\n",
            "\n",
            " [[177 144 116]\n",
            "  [168 129  94]\n",
            "  [179 142  87]\n",
            "  ...\n",
            "  [216 184 140]\n",
            "  [151 118  84]\n",
            "  [123  92  72]]]\n"
          ]
        }
      ]
    },
    {
      "cell_type": "code",
      "source": [
        "x_train = x_train.astype('float32')\n",
        "x_test = x_test.astype('float32')\n",
        "x_train = x_train/255\n",
        "x_test = x_test/255"
      ],
      "metadata": {
        "id": "oKjFEnAJM_KK"
      },
      "execution_count": 6,
      "outputs": []
    },
    {
      "cell_type": "code",
      "source": [
        "y_train = np_utils.to_categorical(y_train)\n",
        "y_test = np_utils.to_categorical(y_test)\n",
        "class_num = y_test.shape[1]"
      ],
      "metadata": {
        "id": "--jSJ4wWOHVC"
      },
      "execution_count": 7,
      "outputs": []
    },
    {
      "cell_type": "code",
      "source": [
        "model = Sequential()"
      ],
      "metadata": {
        "id": "JDY-XVbLPM33"
      },
      "execution_count": 8,
      "outputs": []
    },
    {
      "cell_type": "code",
      "source": [
        "model.add(Conv2D(32, (3,3), input_shape = x_train.shape[1:], padding='same'))\n",
        "model.add(Activation('relu'))\n",
        "model.add(BatchNormalization())\n",
        "\n",
        "model.add(Conv2D(64, (3,3), padding= 'same'))\n",
        "model.add(Activation('relu'))\n",
        "model.add(MaxPooling2D(pool_size=(2,2)))\n",
        "model.add(BatchNormalization())\n",
        "\n",
        "model.add(Conv2D(64, (3,3), padding= 'same'))\n",
        "model.add(Activation('relu'))\n",
        "model.add(MaxPooling2D(pool_size=(2,2)))\n",
        "model.add(BatchNormalization())\n",
        "\n",
        "model.add(Conv2D(128, (3,3), padding= 'same'))\n",
        "model.add(Activation('relu'))\n",
        "model.add(BatchNormalization())\n",
        "\n",
        "\n",
        "model.add(Flatten())\n",
        "\n",
        "\n",
        "model.add(Dense(128,kernel_constraint=maxnorm(3,)))\n",
        "model.add(Activation('relu'))\n",
        "model.add(Dropout(0.2))\n",
        "model.add(BatchNormalization())\n",
        "\n",
        "model.add(Dense(256,kernel_constraint=maxnorm(3,)))\n",
        "model.add(Activation('relu'))\n",
        "model.add(BatchNormalization())\n",
        "\n",
        "model.add(Dense(class_num))\n",
        "model.add(Activation('softmax'))"
      ],
      "metadata": {
        "id": "zyQmdRhoO3gY"
      },
      "execution_count": 9,
      "outputs": []
    },
    {
      "cell_type": "code",
      "source": [
        "epochs =25\n",
        "optimizer='adam'"
      ],
      "metadata": {
        "id": "fW31d8evelHr"
      },
      "execution_count": 10,
      "outputs": []
    },
    {
      "cell_type": "code",
      "source": [
        "\n",
        "\n",
        "model.compile(loss= 'CategoricalCrossentropy', optimizer=optimizer, metrics =['accuracy'])"
      ],
      "metadata": {
        "id": "vB7q65HZezKR"
      },
      "execution_count": 11,
      "outputs": []
    },
    {
      "cell_type": "code",
      "source": [
        "print(model.summary())"
      ],
      "metadata": {
        "colab": {
          "base_uri": "https://localhost:8080/"
        },
        "id": "sNHWUUfseLU2",
        "outputId": "acaa052c-94ef-4426-b512-fa31b75c2abe"
      },
      "execution_count": 12,
      "outputs": [
        {
          "output_type": "stream",
          "name": "stdout",
          "text": [
            "Model: \"sequential\"\n",
            "_________________________________________________________________\n",
            " Layer (type)                Output Shape              Param #   \n",
            "=================================================================\n",
            " conv2d (Conv2D)             (None, 32, 32, 32)        896       \n",
            "                                                                 \n",
            " activation (Activation)     (None, 32, 32, 32)        0         \n",
            "                                                                 \n",
            " batch_normalization (BatchN  (None, 32, 32, 32)       128       \n",
            " ormalization)                                                   \n",
            "                                                                 \n",
            " conv2d_1 (Conv2D)           (None, 32, 32, 64)        18496     \n",
            "                                                                 \n",
            " activation_1 (Activation)   (None, 32, 32, 64)        0         \n",
            "                                                                 \n",
            " max_pooling2d (MaxPooling2D  (None, 16, 16, 64)       0         \n",
            " )                                                               \n",
            "                                                                 \n",
            " batch_normalization_1 (Batc  (None, 16, 16, 64)       256       \n",
            " hNormalization)                                                 \n",
            "                                                                 \n",
            " conv2d_2 (Conv2D)           (None, 16, 16, 64)        36928     \n",
            "                                                                 \n",
            " activation_2 (Activation)   (None, 16, 16, 64)        0         \n",
            "                                                                 \n",
            " max_pooling2d_1 (MaxPooling  (None, 8, 8, 64)         0         \n",
            " 2D)                                                             \n",
            "                                                                 \n",
            " batch_normalization_2 (Batc  (None, 8, 8, 64)         256       \n",
            " hNormalization)                                                 \n",
            "                                                                 \n",
            " conv2d_3 (Conv2D)           (None, 8, 8, 128)         73856     \n",
            "                                                                 \n",
            " activation_3 (Activation)   (None, 8, 8, 128)         0         \n",
            "                                                                 \n",
            " batch_normalization_3 (Batc  (None, 8, 8, 128)        512       \n",
            " hNormalization)                                                 \n",
            "                                                                 \n",
            " flatten (Flatten)           (None, 8192)              0         \n",
            "                                                                 \n",
            " dense (Dense)               (None, 128)               1048704   \n",
            "                                                                 \n",
            " activation_4 (Activation)   (None, 128)               0         \n",
            "                                                                 \n",
            " dropout (Dropout)           (None, 128)               0         \n",
            "                                                                 \n",
            " batch_normalization_4 (Batc  (None, 128)              512       \n",
            " hNormalization)                                                 \n",
            "                                                                 \n",
            " dense_1 (Dense)             (None, 256)               33024     \n",
            "                                                                 \n",
            " activation_5 (Activation)   (None, 256)               0         \n",
            "                                                                 \n",
            " batch_normalization_5 (Batc  (None, 256)              1024      \n",
            " hNormalization)                                                 \n",
            "                                                                 \n",
            " dense_2 (Dense)             (None, 10)                2570      \n",
            "                                                                 \n",
            " activation_6 (Activation)   (None, 10)                0         \n",
            "                                                                 \n",
            "=================================================================\n",
            "Total params: 1,217,162\n",
            "Trainable params: 1,215,818\n",
            "Non-trainable params: 1,344\n",
            "_________________________________________________________________\n",
            "None\n"
          ]
        }
      ]
    },
    {
      "cell_type": "code",
      "source": [
        "numpy.random.seed(seed)\n",
        "model.fit(x_train,y_train, validation_data=(x_test,y_test), epochs=epochs, batch_size=64)"
      ],
      "metadata": {
        "colab": {
          "base_uri": "https://localhost:8080/"
        },
        "id": "mGx2vrqOqPXQ",
        "outputId": "2b012333-3aff-409f-b2bf-df488b6e783f"
      },
      "execution_count": 13,
      "outputs": [
        {
          "output_type": "stream",
          "name": "stdout",
          "text": [
            "Epoch 1/25\n",
            "782/782 [==============================] - 29s 23ms/step - loss: 1.2277 - accuracy: 0.5659 - val_loss: 1.4420 - val_accuracy: 0.5378\n",
            "Epoch 2/25\n",
            "782/782 [==============================] - 17s 22ms/step - loss: 0.8069 - accuracy: 0.7170 - val_loss: 0.7616 - val_accuracy: 0.7350\n",
            "Epoch 3/25\n",
            "782/782 [==============================] - 18s 23ms/step - loss: 0.6483 - accuracy: 0.7735 - val_loss: 0.7316 - val_accuracy: 0.7473\n",
            "Epoch 4/25\n",
            "782/782 [==============================] - 17s 22ms/step - loss: 0.5496 - accuracy: 0.8094 - val_loss: 0.7192 - val_accuracy: 0.7563\n",
            "Epoch 5/25\n",
            "782/782 [==============================] - 17s 22ms/step - loss: 0.4773 - accuracy: 0.8338 - val_loss: 0.6794 - val_accuracy: 0.7699\n",
            "Epoch 6/25\n",
            "782/782 [==============================] - 17s 22ms/step - loss: 0.4013 - accuracy: 0.8617 - val_loss: 0.7272 - val_accuracy: 0.7579\n",
            "Epoch 7/25\n",
            "782/782 [==============================] - 17s 22ms/step - loss: 0.3588 - accuracy: 0.8746 - val_loss: 0.6606 - val_accuracy: 0.7848\n",
            "Epoch 8/25\n",
            "782/782 [==============================] - 17s 22ms/step - loss: 0.3113 - accuracy: 0.8917 - val_loss: 0.8352 - val_accuracy: 0.7381\n",
            "Epoch 9/25\n",
            "782/782 [==============================] - 17s 22ms/step - loss: 0.2870 - accuracy: 0.9000 - val_loss: 0.7412 - val_accuracy: 0.7874\n",
            "Epoch 10/25\n",
            "782/782 [==============================] - 17s 22ms/step - loss: 0.2577 - accuracy: 0.9103 - val_loss: 0.7901 - val_accuracy: 0.7666\n",
            "Epoch 11/25\n",
            "782/782 [==============================] - 17s 22ms/step - loss: 0.2394 - accuracy: 0.9158 - val_loss: 0.7019 - val_accuracy: 0.7885\n",
            "Epoch 12/25\n",
            "782/782 [==============================] - 17s 22ms/step - loss: 0.2189 - accuracy: 0.9235 - val_loss: 0.7707 - val_accuracy: 0.7757\n",
            "Epoch 13/25\n",
            "782/782 [==============================] - 17s 22ms/step - loss: 0.2046 - accuracy: 0.9289 - val_loss: 0.7807 - val_accuracy: 0.7852\n",
            "Epoch 14/25\n",
            "782/782 [==============================] - 17s 22ms/step - loss: 0.1968 - accuracy: 0.9299 - val_loss: 0.7222 - val_accuracy: 0.7893\n",
            "Epoch 15/25\n",
            "782/782 [==============================] - 17s 22ms/step - loss: 0.1828 - accuracy: 0.9357 - val_loss: 0.8107 - val_accuracy: 0.7781\n",
            "Epoch 16/25\n",
            "782/782 [==============================] - 17s 22ms/step - loss: 0.1777 - accuracy: 0.9382 - val_loss: 0.7562 - val_accuracy: 0.7898\n",
            "Epoch 17/25\n",
            "782/782 [==============================] - 17s 22ms/step - loss: 0.1731 - accuracy: 0.9399 - val_loss: 0.7574 - val_accuracy: 0.7895\n",
            "Epoch 18/25\n",
            "782/782 [==============================] - 17s 22ms/step - loss: 0.1643 - accuracy: 0.9426 - val_loss: 0.7590 - val_accuracy: 0.7995\n",
            "Epoch 19/25\n",
            "782/782 [==============================] - 17s 22ms/step - loss: 0.1515 - accuracy: 0.9475 - val_loss: 0.7714 - val_accuracy: 0.7935\n",
            "Epoch 20/25\n",
            "782/782 [==============================] - 17s 22ms/step - loss: 0.1565 - accuracy: 0.9465 - val_loss: 0.8667 - val_accuracy: 0.7779\n",
            "Epoch 21/25\n",
            "782/782 [==============================] - 17s 22ms/step - loss: 0.1455 - accuracy: 0.9484 - val_loss: 0.7397 - val_accuracy: 0.7999\n",
            "Epoch 22/25\n",
            "782/782 [==============================] - 17s 22ms/step - loss: 0.1470 - accuracy: 0.9487 - val_loss: 0.8573 - val_accuracy: 0.7777\n",
            "Epoch 23/25\n",
            "782/782 [==============================] - 17s 22ms/step - loss: 0.1310 - accuracy: 0.9546 - val_loss: 0.8952 - val_accuracy: 0.7713\n",
            "Epoch 24/25\n",
            "782/782 [==============================] - 17s 22ms/step - loss: 0.1374 - accuracy: 0.9517 - val_loss: 0.8030 - val_accuracy: 0.7963\n",
            "Epoch 25/25\n",
            "782/782 [==============================] - 17s 22ms/step - loss: 0.1340 - accuracy: 0.9530 - val_loss: 0.8347 - val_accuracy: 0.7889\n"
          ]
        },
        {
          "output_type": "execute_result",
          "data": {
            "text/plain": [
              "<keras.callbacks.History at 0x7fd87070ef90>"
            ]
          },
          "metadata": {},
          "execution_count": 13
        }
      ]
    },
    {
      "cell_type": "code",
      "source": [
        "scores = model.evaluate(x_test,y_test, verbose=0)\n",
        "print(\"accuracy: %.2f%%\" % (scores[1]*100))"
      ],
      "metadata": {
        "colab": {
          "base_uri": "https://localhost:8080/"
        },
        "id": "Uk0B92zSeLei",
        "outputId": "b3f71f4a-577f-4993-a72e-b8f2d653152c"
      },
      "execution_count": 14,
      "outputs": [
        {
          "output_type": "stream",
          "name": "stdout",
          "text": [
            "accuracy: 78.89%\n"
          ]
        }
      ]
    },
    {
      "cell_type": "code",
      "source": [
        ""
      ],
      "metadata": {
        "id": "l5Y8tJ5KRSQZ"
      },
      "execution_count": 14,
      "outputs": []
    },
    {
      "cell_type": "code",
      "source": [
        ""
      ],
      "metadata": {
        "id": "JykmwUsqeLiH"
      },
      "execution_count": 14,
      "outputs": []
    },
    {
      "cell_type": "code",
      "source": [
        ""
      ],
      "metadata": {
        "id": "JzKX4jgneLpR"
      },
      "execution_count": 14,
      "outputs": []
    },
    {
      "cell_type": "code",
      "source": [
        ""
      ],
      "metadata": {
        "id": "-UYStFN1eLsz"
      },
      "execution_count": 14,
      "outputs": []
    },
    {
      "cell_type": "code",
      "source": [
        ""
      ],
      "metadata": {
        "id": "YF-Xg1D8eL4h"
      },
      "execution_count": 14,
      "outputs": []
    },
    {
      "cell_type": "code",
      "source": [
        ""
      ],
      "metadata": {
        "id": "H6PzMf2beL75"
      },
      "execution_count": 14,
      "outputs": []
    },
    {
      "cell_type": "code",
      "source": [
        ""
      ],
      "metadata": {
        "id": "rkl5gXMueMEs"
      },
      "execution_count": 14,
      "outputs": []
    },
    {
      "cell_type": "code",
      "source": [
        ""
      ],
      "metadata": {
        "id": "hZqgXJ7keMIP"
      },
      "execution_count": 14,
      "outputs": []
    },
    {
      "cell_type": "code",
      "source": [
        ""
      ],
      "metadata": {
        "id": "x1ktRkcrYhD3"
      },
      "execution_count": 14,
      "outputs": []
    },
    {
      "cell_type": "code",
      "source": [
        ""
      ],
      "metadata": {
        "id": "3xmvGgUHYhPm"
      },
      "execution_count": 14,
      "outputs": []
    },
    {
      "cell_type": "code",
      "source": [
        ""
      ],
      "metadata": {
        "id": "g1Mx8dagYhTK"
      },
      "execution_count": 14,
      "outputs": []
    },
    {
      "cell_type": "code",
      "source": [
        ""
      ],
      "metadata": {
        "id": "ei-GAc0jYhk1"
      },
      "execution_count": 14,
      "outputs": []
    },
    {
      "cell_type": "code",
      "source": [
        ""
      ],
      "metadata": {
        "id": "97Pb30nVYhwB"
      },
      "execution_count": 14,
      "outputs": []
    },
    {
      "cell_type": "code",
      "source": [
        ""
      ],
      "metadata": {
        "id": "0U2HClq4Yh79"
      },
      "execution_count": 14,
      "outputs": []
    },
    {
      "cell_type": "code",
      "source": [
        ""
      ],
      "metadata": {
        "id": "RLoViVwFYiIt"
      },
      "execution_count": 14,
      "outputs": []
    },
    {
      "cell_type": "code",
      "source": [
        ""
      ],
      "metadata": {
        "id": "vYoPP6QAYiWh"
      },
      "execution_count": 14,
      "outputs": []
    },
    {
      "cell_type": "code",
      "source": [
        ""
      ],
      "metadata": {
        "id": "k6m0sARrVviL"
      },
      "execution_count": 14,
      "outputs": []
    },
    {
      "cell_type": "code",
      "source": [
        ""
      ],
      "metadata": {
        "id": "Z1kR6H0sVvtM"
      },
      "execution_count": 14,
      "outputs": []
    },
    {
      "cell_type": "code",
      "source": [
        ""
      ],
      "metadata": {
        "id": "DYj66koxVvvk"
      },
      "execution_count": 14,
      "outputs": []
    },
    {
      "cell_type": "code",
      "source": [
        ""
      ],
      "metadata": {
        "id": "Q0NfsMCKVvyE"
      },
      "execution_count": 14,
      "outputs": []
    },
    {
      "cell_type": "code",
      "source": [
        ""
      ],
      "metadata": {
        "id": "PtoNjLFPVv07"
      },
      "execution_count": 14,
      "outputs": []
    },
    {
      "cell_type": "code",
      "source": [
        ""
      ],
      "metadata": {
        "id": "gONKNpKZVv4a"
      },
      "execution_count": 14,
      "outputs": []
    },
    {
      "cell_type": "code",
      "source": [
        ""
      ],
      "metadata": {
        "id": "-4iyhByDVwNs"
      },
      "execution_count": 14,
      "outputs": []
    },
    {
      "cell_type": "code",
      "source": [
        ""
      ],
      "metadata": {
        "id": "FUPmUpujVwfD"
      },
      "execution_count": 14,
      "outputs": []
    },
    {
      "cell_type": "code",
      "source": [
        ""
      ],
      "metadata": {
        "id": "GAmt3wU5M_Wk"
      },
      "execution_count": 14,
      "outputs": []
    },
    {
      "cell_type": "code",
      "source": [
        ""
      ],
      "metadata": {
        "id": "yAHMn5oxM_iU"
      },
      "execution_count": 14,
      "outputs": []
    },
    {
      "cell_type": "code",
      "source": [
        ""
      ],
      "metadata": {
        "id": "rCqoTKz9M_sv"
      },
      "execution_count": 14,
      "outputs": []
    },
    {
      "cell_type": "code",
      "source": [
        ""
      ],
      "metadata": {
        "id": "ohNKvL9BM_wG"
      },
      "execution_count": 14,
      "outputs": []
    },
    {
      "cell_type": "code",
      "source": [
        ""
      ],
      "metadata": {
        "id": "6rJMoYxkM_9I"
      },
      "execution_count": 14,
      "outputs": []
    },
    {
      "cell_type": "code",
      "source": [
        ""
      ],
      "metadata": {
        "id": "lVpEQhTRNAAv"
      },
      "execution_count": 14,
      "outputs": []
    }
  ]
}